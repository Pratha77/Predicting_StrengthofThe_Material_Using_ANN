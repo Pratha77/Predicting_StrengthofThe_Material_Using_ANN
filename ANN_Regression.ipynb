{
  "nbformat": 4,
  "nbformat_minor": 0,
  "metadata": {
    "colab": {
      "provenance": []
    },
    "kernelspec": {
      "name": "python3",
      "display_name": "Python 3"
    },
    "language_info": {
      "name": "python"
    }
  },
  "cells": [
    {
      "cell_type": "code",
      "execution_count": null,
      "metadata": {
        "id": "QaF4mBLpUYI7"
      },
      "outputs": [],
      "source": [
        "import numpy as np\n",
        "import pandas as pd\n",
        "\n",
        "import tensorflow\n",
        "from tensorflow import keras\n",
        "from tensorflow.keras import Sequential\n",
        "from tensorflow.keras import callbacks\n",
        "from tensorflow.keras.layers import Dense\n",
        "\n",
        "import matplotlib.pyplot as plt\n",
        "from sklearn.metrics import mean_absolute_error as mae\n",
        "import seaborn as sns\n",
        "%matplotlib inline\n",
        "\n",
        "#for Interactive Shells\n",
        "from IPython.display import display\n",
        "\n",
        "#removing warnings\n",
        "import sys\n",
        "import warnings\n",
        "if not sys.warnoptions:\n",
        "    warnings.simplefilter(\"ignore\")"
      ]
    },
    {
      "cell_type": "code",
      "source": [
        "from google.colab import drive\n",
        "drive.mount('/content/drive')"
      ],
      "metadata": {
        "colab": {
          "base_uri": "https://localhost:8080/"
        },
        "id": "EM4z1twxWG3-",
        "outputId": "08ff032c-5109-4a0b-a39e-9b81153338ad"
      },
      "execution_count": null,
      "outputs": [
        {
          "output_type": "stream",
          "name": "stdout",
          "text": [
            "Drive already mounted at /content/drive; to attempt to forcibly remount, call drive.mount(\"/content/drive\", force_remount=True).\n"
          ]
        }
      ]
    },
    {
      "cell_type": "code",
      "source": [
        "# change working DIR\n",
        "import os\n",
        "os.chdir(\"/content/drive/MyDrive/Deep Learning/ANN/ANN_Regression\")"
      ],
      "metadata": {
        "id": "YN6POArnWniy"
      },
      "execution_count": null,
      "outputs": []
    },
    {
      "cell_type": "code",
      "source": [
        "!dir"
      ],
      "metadata": {
        "colab": {
          "base_uri": "https://localhost:8080/"
        },
        "id": "8svQUVvdW4VW",
        "outputId": "c922b6db-f4ae-4d3d-9f23-68adfb672877"
      },
      "execution_count": null,
      "outputs": [
        {
          "output_type": "stream",
          "name": "stdout",
          "text": [
            "ANN_Regression.ipynb  concrete_data.csv  trained_model.h5\n"
          ]
        }
      ]
    },
    {
      "cell_type": "code",
      "source": [
        "df = pd.read_csv('/content/drive/MyDrive/Deep Learning/ANN/ANN_Regression/concrete_data.csv')\n"
      ],
      "metadata": {
        "id": "TG4nj6uAXET-"
      },
      "execution_count": null,
      "outputs": []
    },
    {
      "cell_type": "code",
      "source": [
        "df.head()"
      ],
      "metadata": {
        "colab": {
          "base_uri": "https://localhost:8080/",
          "height": 223
        },
        "id": "WDKnZKbCXQ15",
        "outputId": "929cab50-e670-414a-cf1b-625c02f63a7d"
      },
      "execution_count": null,
      "outputs": [
        {
          "output_type": "execute_result",
          "data": {
            "text/plain": [
              "   Cement  Blast Furnace Slag  Fly Ash  Water  Superplasticizer  \\\n",
              "0   540.0                 0.0      0.0  162.0               2.5   \n",
              "1   540.0                 0.0      0.0  162.0               2.5   \n",
              "2   332.5               142.5      0.0  228.0               0.0   \n",
              "3   332.5               142.5      0.0  228.0               0.0   \n",
              "4   198.6               132.4      0.0  192.0               0.0   \n",
              "\n",
              "   Coarse Aggregate  Fine Aggregate  Age  Strength  \n",
              "0            1040.0           676.0   28     79.99  \n",
              "1            1055.0           676.0   28     61.89  \n",
              "2             932.0           594.0  270     40.27  \n",
              "3             932.0           594.0  365     41.05  \n",
              "4             978.4           825.5  360     44.30  "
            ],
            "text/html": [
              "\n",
              "  <div id=\"df-f8766185-92ba-4de4-a8a2-ea411e57bc1a\" class=\"colab-df-container\">\n",
              "    <div>\n",
              "<style scoped>\n",
              "    .dataframe tbody tr th:only-of-type {\n",
              "        vertical-align: middle;\n",
              "    }\n",
              "\n",
              "    .dataframe tbody tr th {\n",
              "        vertical-align: top;\n",
              "    }\n",
              "\n",
              "    .dataframe thead th {\n",
              "        text-align: right;\n",
              "    }\n",
              "</style>\n",
              "<table border=\"1\" class=\"dataframe\">\n",
              "  <thead>\n",
              "    <tr style=\"text-align: right;\">\n",
              "      <th></th>\n",
              "      <th>Cement</th>\n",
              "      <th>Blast Furnace Slag</th>\n",
              "      <th>Fly Ash</th>\n",
              "      <th>Water</th>\n",
              "      <th>Superplasticizer</th>\n",
              "      <th>Coarse Aggregate</th>\n",
              "      <th>Fine Aggregate</th>\n",
              "      <th>Age</th>\n",
              "      <th>Strength</th>\n",
              "    </tr>\n",
              "  </thead>\n",
              "  <tbody>\n",
              "    <tr>\n",
              "      <th>0</th>\n",
              "      <td>540.0</td>\n",
              "      <td>0.0</td>\n",
              "      <td>0.0</td>\n",
              "      <td>162.0</td>\n",
              "      <td>2.5</td>\n",
              "      <td>1040.0</td>\n",
              "      <td>676.0</td>\n",
              "      <td>28</td>\n",
              "      <td>79.99</td>\n",
              "    </tr>\n",
              "    <tr>\n",
              "      <th>1</th>\n",
              "      <td>540.0</td>\n",
              "      <td>0.0</td>\n",
              "      <td>0.0</td>\n",
              "      <td>162.0</td>\n",
              "      <td>2.5</td>\n",
              "      <td>1055.0</td>\n",
              "      <td>676.0</td>\n",
              "      <td>28</td>\n",
              "      <td>61.89</td>\n",
              "    </tr>\n",
              "    <tr>\n",
              "      <th>2</th>\n",
              "      <td>332.5</td>\n",
              "      <td>142.5</td>\n",
              "      <td>0.0</td>\n",
              "      <td>228.0</td>\n",
              "      <td>0.0</td>\n",
              "      <td>932.0</td>\n",
              "      <td>594.0</td>\n",
              "      <td>270</td>\n",
              "      <td>40.27</td>\n",
              "    </tr>\n",
              "    <tr>\n",
              "      <th>3</th>\n",
              "      <td>332.5</td>\n",
              "      <td>142.5</td>\n",
              "      <td>0.0</td>\n",
              "      <td>228.0</td>\n",
              "      <td>0.0</td>\n",
              "      <td>932.0</td>\n",
              "      <td>594.0</td>\n",
              "      <td>365</td>\n",
              "      <td>41.05</td>\n",
              "    </tr>\n",
              "    <tr>\n",
              "      <th>4</th>\n",
              "      <td>198.6</td>\n",
              "      <td>132.4</td>\n",
              "      <td>0.0</td>\n",
              "      <td>192.0</td>\n",
              "      <td>0.0</td>\n",
              "      <td>978.4</td>\n",
              "      <td>825.5</td>\n",
              "      <td>360</td>\n",
              "      <td>44.30</td>\n",
              "    </tr>\n",
              "  </tbody>\n",
              "</table>\n",
              "</div>\n",
              "    <div class=\"colab-df-buttons\">\n",
              "\n",
              "  <div class=\"colab-df-container\">\n",
              "    <button class=\"colab-df-convert\" onclick=\"convertToInteractive('df-f8766185-92ba-4de4-a8a2-ea411e57bc1a')\"\n",
              "            title=\"Convert this dataframe to an interactive table.\"\n",
              "            style=\"display:none;\">\n",
              "\n",
              "  <svg xmlns=\"http://www.w3.org/2000/svg\" height=\"24px\" viewBox=\"0 -960 960 960\">\n",
              "    <path d=\"M120-120v-720h720v720H120Zm60-500h600v-160H180v160Zm220 220h160v-160H400v160Zm0 220h160v-160H400v160ZM180-400h160v-160H180v160Zm440 0h160v-160H620v160ZM180-180h160v-160H180v160Zm440 0h160v-160H620v160Z\"/>\n",
              "  </svg>\n",
              "    </button>\n",
              "\n",
              "  <style>\n",
              "    .colab-df-container {\n",
              "      display:flex;\n",
              "      gap: 12px;\n",
              "    }\n",
              "\n",
              "    .colab-df-convert {\n",
              "      background-color: #E8F0FE;\n",
              "      border: none;\n",
              "      border-radius: 50%;\n",
              "      cursor: pointer;\n",
              "      display: none;\n",
              "      fill: #1967D2;\n",
              "      height: 32px;\n",
              "      padding: 0 0 0 0;\n",
              "      width: 32px;\n",
              "    }\n",
              "\n",
              "    .colab-df-convert:hover {\n",
              "      background-color: #E2EBFA;\n",
              "      box-shadow: 0px 1px 2px rgba(60, 64, 67, 0.3), 0px 1px 3px 1px rgba(60, 64, 67, 0.15);\n",
              "      fill: #174EA6;\n",
              "    }\n",
              "\n",
              "    .colab-df-buttons div {\n",
              "      margin-bottom: 4px;\n",
              "    }\n",
              "\n",
              "    [theme=dark] .colab-df-convert {\n",
              "      background-color: #3B4455;\n",
              "      fill: #D2E3FC;\n",
              "    }\n",
              "\n",
              "    [theme=dark] .colab-df-convert:hover {\n",
              "      background-color: #434B5C;\n",
              "      box-shadow: 0px 1px 3px 1px rgba(0, 0, 0, 0.15);\n",
              "      filter: drop-shadow(0px 1px 2px rgba(0, 0, 0, 0.3));\n",
              "      fill: #FFFFFF;\n",
              "    }\n",
              "  </style>\n",
              "\n",
              "    <script>\n",
              "      const buttonEl =\n",
              "        document.querySelector('#df-f8766185-92ba-4de4-a8a2-ea411e57bc1a button.colab-df-convert');\n",
              "      buttonEl.style.display =\n",
              "        google.colab.kernel.accessAllowed ? 'block' : 'none';\n",
              "\n",
              "      async function convertToInteractive(key) {\n",
              "        const element = document.querySelector('#df-f8766185-92ba-4de4-a8a2-ea411e57bc1a');\n",
              "        const dataTable =\n",
              "          await google.colab.kernel.invokeFunction('convertToInteractive',\n",
              "                                                    [key], {});\n",
              "        if (!dataTable) return;\n",
              "\n",
              "        const docLinkHtml = 'Like what you see? Visit the ' +\n",
              "          '<a target=\"_blank\" href=https://colab.research.google.com/notebooks/data_table.ipynb>data table notebook</a>'\n",
              "          + ' to learn more about interactive tables.';\n",
              "        element.innerHTML = '';\n",
              "        dataTable['output_type'] = 'display_data';\n",
              "        await google.colab.output.renderOutput(dataTable, element);\n",
              "        const docLink = document.createElement('div');\n",
              "        docLink.innerHTML = docLinkHtml;\n",
              "        element.appendChild(docLink);\n",
              "      }\n",
              "    </script>\n",
              "  </div>\n",
              "\n",
              "\n",
              "<div id=\"df-149c14f5-d774-4d56-808b-b32b3ded6962\">\n",
              "  <button class=\"colab-df-quickchart\" onclick=\"quickchart('df-149c14f5-d774-4d56-808b-b32b3ded6962')\"\n",
              "            title=\"Suggest charts\"\n",
              "            style=\"display:none;\">\n",
              "\n",
              "<svg xmlns=\"http://www.w3.org/2000/svg\" height=\"24px\"viewBox=\"0 0 24 24\"\n",
              "     width=\"24px\">\n",
              "    <g>\n",
              "        <path d=\"M19 3H5c-1.1 0-2 .9-2 2v14c0 1.1.9 2 2 2h14c1.1 0 2-.9 2-2V5c0-1.1-.9-2-2-2zM9 17H7v-7h2v7zm4 0h-2V7h2v10zm4 0h-2v-4h2v4z\"/>\n",
              "    </g>\n",
              "</svg>\n",
              "  </button>\n",
              "\n",
              "<style>\n",
              "  .colab-df-quickchart {\n",
              "      --bg-color: #E8F0FE;\n",
              "      --fill-color: #1967D2;\n",
              "      --hover-bg-color: #E2EBFA;\n",
              "      --hover-fill-color: #174EA6;\n",
              "      --disabled-fill-color: #AAA;\n",
              "      --disabled-bg-color: #DDD;\n",
              "  }\n",
              "\n",
              "  [theme=dark] .colab-df-quickchart {\n",
              "      --bg-color: #3B4455;\n",
              "      --fill-color: #D2E3FC;\n",
              "      --hover-bg-color: #434B5C;\n",
              "      --hover-fill-color: #FFFFFF;\n",
              "      --disabled-bg-color: #3B4455;\n",
              "      --disabled-fill-color: #666;\n",
              "  }\n",
              "\n",
              "  .colab-df-quickchart {\n",
              "    background-color: var(--bg-color);\n",
              "    border: none;\n",
              "    border-radius: 50%;\n",
              "    cursor: pointer;\n",
              "    display: none;\n",
              "    fill: var(--fill-color);\n",
              "    height: 32px;\n",
              "    padding: 0;\n",
              "    width: 32px;\n",
              "  }\n",
              "\n",
              "  .colab-df-quickchart:hover {\n",
              "    background-color: var(--hover-bg-color);\n",
              "    box-shadow: 0 1px 2px rgba(60, 64, 67, 0.3), 0 1px 3px 1px rgba(60, 64, 67, 0.15);\n",
              "    fill: var(--button-hover-fill-color);\n",
              "  }\n",
              "\n",
              "  .colab-df-quickchart-complete:disabled,\n",
              "  .colab-df-quickchart-complete:disabled:hover {\n",
              "    background-color: var(--disabled-bg-color);\n",
              "    fill: var(--disabled-fill-color);\n",
              "    box-shadow: none;\n",
              "  }\n",
              "\n",
              "  .colab-df-spinner {\n",
              "    border: 2px solid var(--fill-color);\n",
              "    border-color: transparent;\n",
              "    border-bottom-color: var(--fill-color);\n",
              "    animation:\n",
              "      spin 1s steps(1) infinite;\n",
              "  }\n",
              "\n",
              "  @keyframes spin {\n",
              "    0% {\n",
              "      border-color: transparent;\n",
              "      border-bottom-color: var(--fill-color);\n",
              "      border-left-color: var(--fill-color);\n",
              "    }\n",
              "    20% {\n",
              "      border-color: transparent;\n",
              "      border-left-color: var(--fill-color);\n",
              "      border-top-color: var(--fill-color);\n",
              "    }\n",
              "    30% {\n",
              "      border-color: transparent;\n",
              "      border-left-color: var(--fill-color);\n",
              "      border-top-color: var(--fill-color);\n",
              "      border-right-color: var(--fill-color);\n",
              "    }\n",
              "    40% {\n",
              "      border-color: transparent;\n",
              "      border-right-color: var(--fill-color);\n",
              "      border-top-color: var(--fill-color);\n",
              "    }\n",
              "    60% {\n",
              "      border-color: transparent;\n",
              "      border-right-color: var(--fill-color);\n",
              "    }\n",
              "    80% {\n",
              "      border-color: transparent;\n",
              "      border-right-color: var(--fill-color);\n",
              "      border-bottom-color: var(--fill-color);\n",
              "    }\n",
              "    90% {\n",
              "      border-color: transparent;\n",
              "      border-bottom-color: var(--fill-color);\n",
              "    }\n",
              "  }\n",
              "</style>\n",
              "\n",
              "  <script>\n",
              "    async function quickchart(key) {\n",
              "      const quickchartButtonEl =\n",
              "        document.querySelector('#' + key + ' button');\n",
              "      quickchartButtonEl.disabled = true;  // To prevent multiple clicks.\n",
              "      quickchartButtonEl.classList.add('colab-df-spinner');\n",
              "      try {\n",
              "        const charts = await google.colab.kernel.invokeFunction(\n",
              "            'suggestCharts', [key], {});\n",
              "      } catch (error) {\n",
              "        console.error('Error during call to suggestCharts:', error);\n",
              "      }\n",
              "      quickchartButtonEl.classList.remove('colab-df-spinner');\n",
              "      quickchartButtonEl.classList.add('colab-df-quickchart-complete');\n",
              "    }\n",
              "    (() => {\n",
              "      let quickchartButtonEl =\n",
              "        document.querySelector('#df-149c14f5-d774-4d56-808b-b32b3ded6962 button');\n",
              "      quickchartButtonEl.style.display =\n",
              "        google.colab.kernel.accessAllowed ? 'block' : 'none';\n",
              "    })();\n",
              "  </script>\n",
              "</div>\n",
              "    </div>\n",
              "  </div>\n"
            ]
          },
          "metadata": {},
          "execution_count": 6
        }
      ]
    },
    {
      "cell_type": "code",
      "source": [
        "X = df.iloc[:,0:-1].values\n",
        "y = df.iloc[:,-1].values"
      ],
      "metadata": {
        "id": "DykJRvDbXTxV"
      },
      "execution_count": null,
      "outputs": []
    },
    {
      "cell_type": "code",
      "source": [
        "#split the dataset into training and testing\n",
        "\n",
        "from sklearn.model_selection import train_test_split\n",
        "X_train, X_test, y_train, y_test = train_test_split(X, y, test_size=0.2,\n",
        "                                                    shuffle=True,\n",
        "                                                    random_state=43)"
      ],
      "metadata": {
        "id": "9TFKpohlXpNa"
      },
      "execution_count": null,
      "outputs": []
    },
    {
      "cell_type": "code",
      "source": [
        "# Feature Scaling\n",
        "from sklearn.preprocessing import StandardScaler\n",
        "\n",
        "sc = StandardScaler()\n",
        "X_train = sc.fit_transform(X_train)\n",
        "X_test = sc.transform(X_test)"
      ],
      "metadata": {
        "id": "KeQGI44sYdmf"
      },
      "execution_count": null,
      "outputs": []
    },
    {
      "cell_type": "markdown",
      "source": [
        "#Model Building using Ann"
      ],
      "metadata": {
        "id": "Bfsof8mTZIs_"
      }
    },
    {
      "cell_type": "code",
      "source": [
        "#Improving the ANN\n",
        "\n",
        "from tensorflow.keras.layers import Dropout\n",
        "\n",
        "model1 = Sequential()\n",
        "\n",
        "#Adding the input layers and the first hidden layers\n",
        "model1.add(Dense(units = 800,\n",
        "                 kernel_initializer = 'uniform',\n",
        "                 activation = 'relu',\n",
        "                 input_shape = [X_train.shape[1]]))\n",
        "\n",
        "#Adding the second hidden layer\n",
        "model1.add(Dense(units = 1000,\n",
        "                 kernel_initializer = 'uniform',\n",
        "                 activation = 'relu',\n",
        "                 ))\n",
        "\n",
        "#Adding the third hidden layer\n",
        "model1.add(Dense(units = 1200,\n",
        "                 kernel_initializer = 'uniform',\n",
        "                 activation = 'relu',\n",
        "                 ))\n",
        "\n",
        "#Adding the forth hidden layer\n",
        "model1.add(Dense(units = 1600,\n",
        "                 kernel_initializer = 'uniform',\n",
        "                 activation = 'relu',\n",
        "                 ))\n",
        "\n",
        "#Adding the fifth hidden layer\n",
        "model1.add(Dense(units = 2000,\n",
        "                 kernel_initializer = 'uniform',\n",
        "                 activation = 'relu',\n",
        "                 ))\n",
        "\n",
        "#Adding the output layer\n",
        "model1.add(Dense(units = 1,\n",
        "                 kernel_initializer = 'uniform',\n",
        "                 activation = 'linear',\n",
        "                 ))\n"
      ],
      "metadata": {
        "id": "XpD8bnF_ZCv2"
      },
      "execution_count": null,
      "outputs": []
    },
    {
      "cell_type": "code",
      "source": [
        "model1.summary()"
      ],
      "metadata": {
        "colab": {
          "base_uri": "https://localhost:8080/"
        },
        "id": "GsT2woB_bq3S",
        "outputId": "79baf84f-1c9b-402b-ceda-3523bac612e7"
      },
      "execution_count": null,
      "outputs": [
        {
          "output_type": "stream",
          "name": "stdout",
          "text": [
            "Model: \"sequential\"\n",
            "_________________________________________________________________\n",
            " Layer (type)                Output Shape              Param #   \n",
            "=================================================================\n",
            " dense (Dense)               (None, 800)               7200      \n",
            "                                                                 \n",
            " dense_1 (Dense)             (None, 1000)              801000    \n",
            "                                                                 \n",
            " dense_2 (Dense)             (None, 1200)              1201200   \n",
            "                                                                 \n",
            " dense_3 (Dense)             (None, 1600)              1921600   \n",
            "                                                                 \n",
            " dense_4 (Dense)             (None, 2000)              3202000   \n",
            "                                                                 \n",
            " dense_5 (Dense)             (None, 1)                 2001      \n",
            "                                                                 \n",
            "=================================================================\n",
            "Total params: 7135001 (27.22 MB)\n",
            "Trainable params: 7135001 (27.22 MB)\n",
            "Non-trainable params: 0 (0.00 Byte)\n",
            "_________________________________________________________________\n"
          ]
        }
      ]
    },
    {
      "cell_type": "code",
      "source": [
        "#Compile the ANN\n",
        "model1.compile(optimizer = 'adam', loss= 'mean_squared_error')\n",
        "\n",
        "#fitting the ANN to the training set\n",
        "history = model1.fit(X_train,y_train,\n",
        "                     batch_size=62,\n",
        "                     epochs=80,\n",
        "                     validation_split=0.1,\n",
        "                     verbose = 1)\n",
        "\n",
        "#save trained model\n",
        "model1.save(\"trained_model.h5\")"
      ],
      "metadata": {
        "colab": {
          "base_uri": "https://localhost:8080/"
        },
        "id": "WhET_SsRbwqI",
        "outputId": "984731f4-aacb-4614-e14e-9f693d5986dd"
      },
      "execution_count": null,
      "outputs": [
        {
          "output_type": "stream",
          "name": "stdout",
          "text": [
            "Epoch 1/80\n",
            "12/12 [==============================] - 8s 474ms/step - loss: 620.0929 - val_loss: 316.8642\n",
            "Epoch 2/80\n",
            "12/12 [==============================] - 4s 375ms/step - loss: 215.9891 - val_loss: 223.3765\n",
            "Epoch 3/80\n",
            "12/12 [==============================] - 3s 239ms/step - loss: 162.5924 - val_loss: 162.3000\n",
            "Epoch 4/80\n",
            "12/12 [==============================] - 3s 250ms/step - loss: 138.9185 - val_loss: 138.0755\n",
            "Epoch 5/80\n",
            "12/12 [==============================] - 3s 235ms/step - loss: 98.8156 - val_loss: 108.8275\n",
            "Epoch 6/80\n",
            "12/12 [==============================] - 4s 336ms/step - loss: 70.0444 - val_loss: 69.1882\n",
            "Epoch 7/80\n",
            "12/12 [==============================] - 4s 352ms/step - loss: 53.6177 - val_loss: 73.8933\n",
            "Epoch 8/80\n",
            "12/12 [==============================] - 2s 127ms/step - loss: 50.9827 - val_loss: 70.0036\n",
            "Epoch 9/80\n",
            "12/12 [==============================] - 2s 126ms/step - loss: 39.5015 - val_loss: 39.4524\n",
            "Epoch 10/80\n",
            "12/12 [==============================] - 1s 122ms/step - loss: 32.8285 - val_loss: 39.6619\n",
            "Epoch 11/80\n",
            "12/12 [==============================] - 2s 127ms/step - loss: 31.6564 - val_loss: 34.1376\n",
            "Epoch 12/80\n",
            "12/12 [==============================] - 2s 129ms/step - loss: 26.4944 - val_loss: 40.2011\n",
            "Epoch 13/80\n",
            "12/12 [==============================] - 2s 127ms/step - loss: 28.1381 - val_loss: 42.5492\n",
            "Epoch 14/80\n",
            "12/12 [==============================] - 2s 165ms/step - loss: 21.9274 - val_loss: 31.7021\n",
            "Epoch 15/80\n",
            "12/12 [==============================] - 2s 194ms/step - loss: 22.4037 - val_loss: 33.4070\n",
            "Epoch 16/80\n",
            "12/12 [==============================] - 2s 201ms/step - loss: 21.5811 - val_loss: 37.4123\n",
            "Epoch 17/80\n",
            "12/12 [==============================] - 2s 178ms/step - loss: 18.7961 - val_loss: 37.6169\n",
            "Epoch 18/80\n",
            "12/12 [==============================] - 1s 124ms/step - loss: 23.6182 - val_loss: 63.8094\n",
            "Epoch 19/80\n",
            "12/12 [==============================] - 1s 126ms/step - loss: 28.6612 - val_loss: 26.7205\n",
            "Epoch 20/80\n",
            "12/12 [==============================] - 2s 127ms/step - loss: 17.6102 - val_loss: 30.8575\n",
            "Epoch 21/80\n",
            "12/12 [==============================] - 2s 129ms/step - loss: 15.3616 - val_loss: 29.3610\n",
            "Epoch 22/80\n",
            "12/12 [==============================] - 1s 125ms/step - loss: 13.4463 - val_loss: 31.8148\n",
            "Epoch 23/80\n",
            "12/12 [==============================] - 2s 129ms/step - loss: 16.4283 - val_loss: 30.2289\n",
            "Epoch 24/80\n",
            "12/12 [==============================] - 2s 175ms/step - loss: 18.4332 - val_loss: 39.4347\n",
            "Epoch 25/80\n",
            "12/12 [==============================] - 2s 195ms/step - loss: 16.4864 - val_loss: 33.9528\n",
            "Epoch 26/80\n",
            "12/12 [==============================] - 2s 195ms/step - loss: 12.2923 - val_loss: 31.0197\n",
            "Epoch 27/80\n",
            "12/12 [==============================] - 2s 168ms/step - loss: 17.9534 - val_loss: 35.2552\n",
            "Epoch 28/80\n",
            "12/12 [==============================] - 2s 128ms/step - loss: 19.6538 - val_loss: 35.3592\n",
            "Epoch 29/80\n",
            "12/12 [==============================] - 2s 129ms/step - loss: 15.6323 - val_loss: 38.1301\n",
            "Epoch 30/80\n",
            "12/12 [==============================] - 2s 128ms/step - loss: 17.9103 - val_loss: 38.4817\n",
            "Epoch 31/80\n",
            "12/12 [==============================] - 2s 127ms/step - loss: 19.7839 - val_loss: 32.0602\n",
            "Epoch 32/80\n",
            "12/12 [==============================] - 2s 130ms/step - loss: 16.9784 - val_loss: 40.2219\n",
            "Epoch 33/80\n",
            "12/12 [==============================] - 2s 126ms/step - loss: 15.1687 - val_loss: 31.3470\n",
            "Epoch 34/80\n",
            "12/12 [==============================] - 2s 187ms/step - loss: 11.9158 - val_loss: 27.5458\n",
            "Epoch 35/80\n",
            "12/12 [==============================] - 2s 204ms/step - loss: 12.4633 - val_loss: 32.7676\n",
            "Epoch 36/80\n",
            "12/12 [==============================] - 2s 194ms/step - loss: 10.5662 - val_loss: 28.1489\n",
            "Epoch 37/80\n",
            "12/12 [==============================] - 2s 154ms/step - loss: 9.6707 - val_loss: 28.4471\n",
            "Epoch 38/80\n",
            "12/12 [==============================] - 2s 126ms/step - loss: 9.3393 - val_loss: 29.5380\n",
            "Epoch 39/80\n",
            "12/12 [==============================] - 2s 130ms/step - loss: 9.2194 - val_loss: 29.5675\n",
            "Epoch 40/80\n",
            "12/12 [==============================] - 2s 126ms/step - loss: 11.6257 - val_loss: 32.0451\n",
            "Epoch 41/80\n",
            "12/12 [==============================] - 2s 128ms/step - loss: 11.0563 - val_loss: 29.1676\n",
            "Epoch 42/80\n",
            "12/12 [==============================] - 2s 131ms/step - loss: 9.9582 - val_loss: 29.5233\n",
            "Epoch 43/80\n",
            "12/12 [==============================] - 2s 128ms/step - loss: 10.5099 - val_loss: 29.2848\n",
            "Epoch 44/80\n",
            "12/12 [==============================] - 2s 192ms/step - loss: 10.8919 - val_loss: 34.2709\n",
            "Epoch 45/80\n",
            "12/12 [==============================] - 2s 195ms/step - loss: 11.7061 - val_loss: 27.9615\n",
            "Epoch 46/80\n",
            "12/12 [==============================] - 2s 198ms/step - loss: 11.6781 - val_loss: 33.7751\n",
            "Epoch 47/80\n",
            "12/12 [==============================] - 2s 146ms/step - loss: 9.5363 - val_loss: 29.4187\n",
            "Epoch 48/80\n",
            "12/12 [==============================] - 2s 132ms/step - loss: 9.8569 - val_loss: 33.7816\n",
            "Epoch 49/80\n",
            "12/12 [==============================] - 2s 126ms/step - loss: 9.5855 - val_loss: 30.8313\n",
            "Epoch 50/80\n",
            "12/12 [==============================] - 2s 128ms/step - loss: 10.8704 - val_loss: 32.9372\n",
            "Epoch 51/80\n",
            "12/12 [==============================] - 1s 125ms/step - loss: 9.9851 - val_loss: 30.0744\n",
            "Epoch 52/80\n",
            "12/12 [==============================] - 2s 126ms/step - loss: 10.2197 - val_loss: 33.2285\n",
            "Epoch 53/80\n",
            "12/12 [==============================] - 2s 142ms/step - loss: 12.7677 - val_loss: 29.5216\n",
            "Epoch 54/80\n",
            "12/12 [==============================] - 2s 195ms/step - loss: 14.6526 - val_loss: 28.1780\n",
            "Epoch 55/80\n",
            "12/12 [==============================] - 2s 191ms/step - loss: 11.6670 - val_loss: 36.3522\n",
            "Epoch 56/80\n",
            "12/12 [==============================] - 2s 196ms/step - loss: 10.6651 - val_loss: 31.8880\n",
            "Epoch 57/80\n",
            "12/12 [==============================] - 2s 130ms/step - loss: 9.9197 - val_loss: 32.3269\n",
            "Epoch 58/80\n",
            "12/12 [==============================] - 2s 130ms/step - loss: 13.3465 - val_loss: 50.6481\n",
            "Epoch 59/80\n",
            "12/12 [==============================] - 2s 130ms/step - loss: 22.5000 - val_loss: 53.0744\n",
            "Epoch 60/80\n",
            "12/12 [==============================] - 2s 135ms/step - loss: 30.7459 - val_loss: 46.3872\n",
            "Epoch 61/80\n",
            "12/12 [==============================] - 2s 129ms/step - loss: 29.3501 - val_loss: 55.3792\n",
            "Epoch 62/80\n",
            "12/12 [==============================] - 2s 129ms/step - loss: 19.5597 - val_loss: 40.1906\n",
            "Epoch 63/80\n",
            "12/12 [==============================] - 2s 162ms/step - loss: 15.4892 - val_loss: 28.0412\n",
            "Epoch 64/80\n",
            "12/12 [==============================] - 2s 196ms/step - loss: 11.3375 - val_loss: 28.2111\n",
            "Epoch 65/80\n",
            "12/12 [==============================] - 2s 193ms/step - loss: 8.8774 - val_loss: 29.4064\n",
            "Epoch 66/80\n",
            "12/12 [==============================] - 3s 241ms/step - loss: 9.0193 - val_loss: 30.1727\n",
            "Epoch 67/80\n",
            "12/12 [==============================] - 2s 129ms/step - loss: 8.2940 - val_loss: 29.1140\n",
            "Epoch 68/80\n",
            "12/12 [==============================] - 2s 128ms/step - loss: 7.4531 - val_loss: 32.2447\n",
            "Epoch 69/80\n",
            "12/12 [==============================] - 2s 128ms/step - loss: 6.8433 - val_loss: 28.8682\n",
            "Epoch 70/80\n",
            "12/12 [==============================] - 2s 131ms/step - loss: 6.5826 - val_loss: 26.7337\n",
            "Epoch 71/80\n",
            "12/12 [==============================] - 2s 128ms/step - loss: 6.9819 - val_loss: 32.6040\n",
            "Epoch 72/80\n",
            "12/12 [==============================] - 2s 126ms/step - loss: 8.4967 - val_loss: 27.3477\n",
            "Epoch 73/80\n",
            "12/12 [==============================] - 2s 196ms/step - loss: 8.0524 - val_loss: 26.0127\n",
            "Epoch 74/80\n",
            "12/12 [==============================] - 2s 197ms/step - loss: 7.1875 - val_loss: 28.0767\n",
            "Epoch 75/80\n",
            "12/12 [==============================] - 2s 197ms/step - loss: 7.7659 - val_loss: 39.1651\n",
            "Epoch 76/80\n",
            "12/12 [==============================] - 2s 149ms/step - loss: 8.2023 - val_loss: 30.2665\n",
            "Epoch 77/80\n",
            "12/12 [==============================] - 2s 130ms/step - loss: 8.0055 - val_loss: 30.2314\n",
            "Epoch 78/80\n",
            "12/12 [==============================] - 2s 126ms/step - loss: 8.8527 - val_loss: 30.3581\n",
            "Epoch 79/80\n",
            "12/12 [==============================] - 1s 125ms/step - loss: 9.8121 - val_loss: 25.8670\n",
            "Epoch 80/80\n",
            "12/12 [==============================] - 2s 132ms/step - loss: 10.2182 - val_loss: 37.8228\n"
          ]
        },
        {
          "output_type": "stream",
          "name": "stderr",
          "text": [
            "/usr/local/lib/python3.10/dist-packages/keras/src/engine/training.py:3079: UserWarning: You are saving your model as an HDF5 file via `model.save()`. This file format is considered legacy. We recommend using instead the native Keras format, e.g. `model.save('my_model.keras')`.\n",
            "  saving_api.save_model(\n"
          ]
        }
      ]
    },
    {
      "cell_type": "code",
      "source": [
        "history = pd.DataFrame(history.history) #mse loss and val_loss\n",
        "history.loc[:, ['loss']].plot();\n",
        "history.loc[:, ['val_loss']].plot();"
      ],
      "metadata": {
        "colab": {
          "base_uri": "https://localhost:8080/",
          "height": 843
        },
        "id": "P-KeKEqqdHoS",
        "outputId": "08f903b5-4853-4df0-f0e1-b5828e5ea53d"
      },
      "execution_count": null,
      "outputs": [
        {
          "output_type": "display_data",
          "data": {
            "text/plain": [
              "<Figure size 640x480 with 1 Axes>"
            ],
            "image/png": "[encoded data removed]"
          },
          "metadata": {}
        },
        {
          "output_type": "display_data",
          "data": {
            "text/plain": [
              "<Figure size 640x480 with 1 Axes>"
            ],
            "image/png": "[encoded data removed]"
          },
          "metadata": {}
        }
      ]
    },
    {
      "cell_type": "code",
      "source": [
        "y_pred = model1.predict(X_test)"
      ],
      "metadata": {
        "colab": {
          "base_uri": "https://localhost:8080/"
        },
        "id": "OGVGLEgAdpX8",
        "outputId": "b72d5d47-1833-402d-8d49-a0290972f7bd"
      },
      "execution_count": null,
      "outputs": [
        {
          "output_type": "stream",
          "name": "stdout",
          "text": [
            "7/7 [==============================] - 0s 19ms/step\n"
          ]
        }
      ]
    },
    {
      "cell_type": "code",
      "source": [
        "from sklearn.metrics import r2_score\n",
        "r2_score(y_test,y_pred)"
      ],
      "metadata": {
        "colab": {
          "base_uri": "https://localhost:8080/"
        },
        "id": "qYtBmc1coJ4y",
        "outputId": "9c4c51a6-dee9-4a04-e783-51f2059dcab1"
      },
      "execution_count": null,
      "outputs": [
        {
          "output_type": "execute_result",
          "data": {
            "text/plain": [
              "0.8452293590235174"
            ]
          },
          "metadata": {},
          "execution_count": 15
        }
      ]
    },
    {
      "cell_type": "code",
      "source": [
        "MAE = mae(y_test,y_pred)\n",
        "\n",
        "plt.figure(figsize=(12,8))\n",
        "with plt.style.context('fivethirtyeight'):\n",
        "\n",
        "    plt.plot(sorted(y_test), label='Actual')\n",
        "    plt.plot(sorted(y_pred) , label='Predicted')\n",
        "\n",
        "    plt.title('Testing prediction\\nMean Absolute Error = {:.3f}'.format(MAE))\n",
        "    plt.ylabel('Concrete Strength')\n",
        "    plt.xlabel('Item')\n",
        "    plt.legend()\n",
        "\n",
        "plt.show()"
      ],
      "metadata": {
        "colab": {
          "base_uri": "https://localhost:8080/",
          "height": 690
        },
        "id": "3NgRpOiCoW1M",
        "outputId": "ca494623-8981-44b3-acc6-0755ce2e1b3c"
      },
      "execution_count": null,
      "outputs": [
        {
          "output_type": "display_data",
          "data": {
            "text/plain": [
              "<Figure size 1200x800 with 1 Axes>"
            ],
            "image/png": "[encoded data removed]"
          },
          "metadata": {}
        }
      ]
    },
    {
      "cell_type": "code",
      "source": [],
      "metadata": {
        "id": "DCgsmxJCqFX0"
      },
      "execution_count": null,
      "outputs": []
    }
  ]
}